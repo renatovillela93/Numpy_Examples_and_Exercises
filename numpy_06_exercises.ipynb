{
 "cells": [
  {
   "cell_type": "markdown",
   "metadata": {},
   "source": [
    "## Exercise\n",
    "\n",
    "You are an HR analyst and you have the salaries of all employees in your company in a NumPy array. Your job is to identify how many employees earn above average. Use the following array for your analysis: `salarios = np.array([3000, 2500, 3500, 4000, 2000, 4500, 3000, 3800, 4800])`."
   ]
  },
  {
   "cell_type": "code",
   "execution_count": 2,
   "metadata": {
    "ExecuteTime": {
     "end_time": "2023-07-03T17:58:55.261401600Z",
     "start_time": "2023-07-03T17:58:55.249755Z"
    },
    "jupyter": {
     "outputs_hidden": false
    }
   },
   "outputs": [],
   "source": [
    "import numpy as np\n",
    "\n",
    "salaries = np.array([3000, 2500, 3500, 4000, 2000, 4500, 3000, 3800, 4800])\n"
   ]
  },
  {
   "cell_type": "code",
   "execution_count": 10,
   "metadata": {},
   "outputs": [
    {
     "name": "stdout",
     "output_type": "stream",
     "text": [
      "(array([2, 3, 5, 7, 8], dtype=int64),)\n"
     ]
    }
   ],
   "source": [
    "# calculate the average\n",
    "mean_salaries = np.mean(salaries)\n",
    "\n",
    "employees_above = np.where(salaries>mean_salaries)\n",
    "print(employees_above)"
   ]
  },
  {
   "cell_type": "code",
   "execution_count": 11,
   "metadata": {},
   "outputs": [
    {
     "name": "stdout",
     "output_type": "stream",
     "text": [
      "5\n"
     ]
    }
   ],
   "source": [
    "employees_above = np.shape(employees_above)\n",
    "employees_above_number = employees_above[1]\n",
    "print(employees_above_number)"
   ]
  },
  {
   "cell_type": "code",
   "execution_count": 16,
   "metadata": {},
   "outputs": [
    {
     "name": "stdout",
     "output_type": "stream",
     "text": [
      "5\n",
      "5\n",
      "5\n",
      "[4 5]\n"
     ]
    }
   ],
   "source": [
    "# another ways\n",
    "employees_above_number = np.sum(salaries>mean_salaries)\n",
    "print(employees_above_number)\n",
    "\n",
    "employees_above_number = np.count_nonzero(salaries>mean_salaries)\n",
    "print(employees_above_number)\n",
    "\n",
    "unique_values, counts = np.unique(salaries>mean_salaries, return_counts=True)\n",
    "print(employees_above_number)\n",
    "print(counts)"
   ]
  },
  {
   "cell_type": "code",
   "execution_count": 17,
   "metadata": {},
   "outputs": [
    {
     "name": "stdout",
     "output_type": "stream",
     "text": [
      "[2249 4167 3832 3228 3212 4404 2240 3952 2564 2263 3474 4731 4060 4131\n",
      " 4008 4200 3437 2358 4351 3261]\n"
     ]
    }
   ],
   "source": [
    "# Bonus: create 20 values related to salaries\n",
    "\n",
    "rng = np.random.default_rng(seed=42)\n",
    "\n",
    "salaries_created = rng.integers(low=np.min(salaries), high=np.max(salaries), size=20)\n",
    "print(salaries_created)"
   ]
  },
  {
   "cell_type": "code",
   "execution_count": 18,
   "metadata": {},
   "outputs": [
    {
     "name": "stdout",
     "output_type": "stream",
     "text": [
      "3506.1\n"
     ]
    }
   ],
   "source": [
    "print(np.mean(salaries_created))"
   ]
  },
  {
   "cell_type": "code",
   "execution_count": 19,
   "metadata": {},
   "outputs": [
    {
     "name": "stdout",
     "output_type": "stream",
     "text": [
      "2240\n",
      "4731\n",
      "3506.1\n"
     ]
    }
   ],
   "source": [
    "print(salaries_created.min())\n",
    "print(salaries_created.max())\n",
    "print(salaries_created.mean())"
   ]
  }
 ],
 "metadata": {
  "kernelspec": {
   "display_name": "Python 3 (ipykernel)",
   "language": "python",
   "name": "python3"
  },
  "language_info": {
   "codemirror_mode": {
    "name": "ipython",
    "version": 3
   },
   "file_extension": ".py",
   "mimetype": "text/x-python",
   "name": "python",
   "nbconvert_exporter": "python",
   "pygments_lexer": "ipython3",
   "version": "3.11.5"
  }
 },
 "nbformat": 4,
 "nbformat_minor": 4
}
