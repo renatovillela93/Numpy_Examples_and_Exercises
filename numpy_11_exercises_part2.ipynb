{
 "cells": [
  {
   "cell_type": "markdown",
   "metadata": {},
   "source": [
    "## Exercise\n",
    "\n",
    "You are a data analyst at a company and you conducted a week-long customer satisfaction survey. You asked customers to rate their level of satisfaction with customer service on a scale of 0 to 10. You collected responses from 30 customers per day for 7 days, resulting in a total of 210 responses.\n",
    "\n",
    "However, the data you received is in a 1D array of 210 elements. Reorganize the data to have responses per day and perform a basic descriptive analysis, calculating the overall satisfaction average and the daily average."
   ]
  },
  {
   "cell_type": "code",
   "execution_count": 2,
   "metadata": {
    "ExecuteTime": {
     "end_time": "2023-07-03T12:12:12.700234800Z",
     "start_time": "2023-07-03T12:12:12.677347900Z"
    },
    "jupyter": {
     "outputs_hidden": false
    }
   },
   "outputs": [
    {
     "name": "stdout",
     "output_type": "stream",
     "text": [
      "[ 0  8  7  4  4  9  0  7  2  1  5 10  8  8  7  8  5  1  9  4  5  4  2 10\n",
      "  8  7  4  9  5  4  4  2  1  6  9  0  9  9  3  6  1  8  7  3  0 10  4  9\n",
      "  7  8  8  2  4  5  5  0  6  1  8  7 10  8  4 10  4  3  9  4  0  5  8  2\n",
      "  5  1  7  5  3  2  6  7 10  4  1  9  6  7  1  3  8  9  4  8  9  4  9  3\n",
      "  2  7  7  1  9  2  8  0  8  8  8  7  5  7  3  8  6  5  5  6  0  1  2  1\n",
      "  4  7  7  5  9  6  0  8  6  6  6  6  0  6  8  3  6  0  3  4 10  2  3  4\n",
      " 10  9  0  2  9  0  9  3 10  3  4  7  1  6  5  8 10  7  4  4  4  8  3  1\n",
      "  3  0  1  0  8  7  7  5  7  1  9  5 10  1  5  7  5  4  1  4  2  3  7  6\n",
      "  6  3 10  0  3  1  3 10  4  9  5  7  5  2  8 10  2  8]\n"
     ]
    }
   ],
   "source": [
    "import numpy as np\n",
    "\n",
    "# consider the following random data as a start\n",
    "rng = np.random.default_rng(seed=42)\n",
    "answers = rng.integers(low=0, high=10, size=210, endpoint=True)\n",
    "print(answers)"
   ]
  },
  {
   "cell_type": "markdown",
   "metadata": {},
   "source": [
    "The following model can be thought of for the received data:\n",
    "\n",
    "     day 1 client 1, day 1 client 2, day 1 client 3, ...\n",
    "     ... day 7 client 28, day 7 client 29, day 7 client 30\n",
    "    \n",
    "So, we can do a reshape:"
   ]
  },
  {
   "cell_type": "code",
   "execution_count": 4,
   "metadata": {},
   "outputs": [
    {
     "name": "stdout",
     "output_type": "stream",
     "text": [
      "[[ 0  8  7  4  4  9  0  7  2  1  5 10  8  8  7  8  5  1  9  4  5  4  2 10\n",
      "   8  7  4  9  5  4]\n",
      " [ 4  2  1  6  9  0  9  9  3  6  1  8  7  3  0 10  4  9  7  8  8  2  4  5\n",
      "   5  0  6  1  8  7]\n",
      " [10  8  4 10  4  3  9  4  0  5  8  2  5  1  7  5  3  2  6  7 10  4  1  9\n",
      "   6  7  1  3  8  9]\n",
      " [ 4  8  9  4  9  3  2  7  7  1  9  2  8  0  8  8  8  7  5  7  3  8  6  5\n",
      "   5  6  0  1  2  1]\n",
      " [ 4  7  7  5  9  6  0  8  6  6  6  6  0  6  8  3  6  0  3  4 10  2  3  4\n",
      "  10  9  0  2  9  0]\n",
      " [ 9  3 10  3  4  7  1  6  5  8 10  7  4  4  4  8  3  1  3  0  1  0  8  7\n",
      "   7  5  7  1  9  5]\n",
      " [10  1  5  7  5  4  1  4  2  3  7  6  6  3 10  0  3  1  3 10  4  9  5  7\n",
      "   5  2  8 10  2  8]]\n"
     ]
    }
   ],
   "source": [
    "answers_reshaped = np.reshape(answers, (7,30))\n",
    "\n",
    "print(answers_reshaped)"
   ]
  },
  {
   "cell_type": "code",
   "execution_count": 7,
   "metadata": {},
   "outputs": [
    {
     "name": "stdout",
     "output_type": "stream",
     "text": [
      "5.147619047619048\n",
      "[5.5        5.06666667 5.36666667 5.1        4.96666667 5.\n",
      " 5.03333333]\n",
      "The mean of day 1 was 5.50.\n",
      "The mean of day 2 was 5.07.\n",
      "The mean of day 3 was 5.37.\n",
      "The mean of day 4 was 5.10.\n",
      "The mean of day 5 was 4.97.\n",
      "The mean of day 6 was 5.00.\n",
      "The mean of day 7 was 5.03.\n"
     ]
    }
   ],
   "source": [
    "# general mean \n",
    "general_mean = np.mean(answers_reshaped)\n",
    "print(general_mean)\n",
    "\n",
    "# mean per day\n",
    "mean_day = np.mean(answers_reshaped,axis=1)\n",
    "print(mean_day)\n",
    "\n",
    "for i in range(7):\n",
    "    print(f'The mean of day {i+1} was {mean_day[i]:.2f}.')"
   ]
  }
 ],
 "metadata": {
  "kernelspec": {
   "display_name": "Python 3 (ipykernel)",
   "language": "python",
   "name": "python3"
  },
  "language_info": {
   "codemirror_mode": {
    "name": "ipython",
    "version": 3
   },
   "file_extension": ".py",
   "mimetype": "text/x-python",
   "name": "python",
   "nbconvert_exporter": "python",
   "pygments_lexer": "ipython3",
   "version": "3.11.5"
  }
 },
 "nbformat": 4,
 "nbformat_minor": 4
}
