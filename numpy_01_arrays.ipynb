{
 "cells": [
  {
   "cell_type": "markdown",
   "metadata": {
    "id": "ES92XHoTqGqP"
   },
   "source": [
    "# NumPy Getting Started Guide\n",
    "\n",
    "NumPy, which stands for Numerical Python, is a fundamental library for scientific computing in Python. It provides support for arrays and matrices, as well as mathematical functions for operations with these objects. It is also the basis of the Pandas library."
   ]
  },
  {
   "cell_type": "markdown",
   "metadata": {
    "id": "hA6Up4mtqGqS"
   },
   "source": [
    "## Installation\n",
    "\n",
    "To install NumPy, you can use pip, which is Python's package manager.\n",
    "\n",
    "```python\n",
    "pip install numpy\n",
    "```\n",
    "\n",
    "## Arrays\n",
    "\n",
    "An array is a data structure that stores values of the same type. In Python, this is a big advantage because it saves space and allows for more efficient operations. Let's create an array."
   ]
  },
  {
   "cell_type": "code",
   "execution_count": 1,
   "metadata": {
    "id": "SqSF4w0OqJcf"
   },
   "outputs": [
    {
     "name": "stdout",
     "output_type": "stream",
     "text": [
      "[1 2 3 4 5]\n"
     ]
    }
   ],
   "source": [
    "import numpy as np\n",
    "\n",
    "array = np.array([1,2,3,4,5])\n",
    "\n",
    "print(array)"
   ]
  },
  {
   "cell_type": "markdown",
   "metadata": {},
   "source": [
    "## Get to know an array - Index and Slice:"
   ]
  },
  {
   "cell_type": "code",
   "execution_count": 2,
   "metadata": {},
   "outputs": [
    {
     "name": "stdout",
     "output_type": "stream",
     "text": [
      "1\n"
     ]
    }
   ],
   "source": [
    "print(array[0]) # accessing value with index number"
   ]
  },
  {
   "cell_type": "code",
   "execution_count": 6,
   "metadata": {},
   "outputs": [
    {
     "name": "stdout",
     "output_type": "stream",
     "text": [
      "Initial array: [1 2 3 4 5]\n",
      "[2 3 4]\n"
     ]
    }
   ],
   "source": [
    "print(f'Initial array: {array}')\n",
    "print(array[1:4]) # acessing interval of values (includes index 1; excludes index 4)"
   ]
  },
  {
   "cell_type": "code",
   "execution_count": 7,
   "metadata": {},
   "outputs": [
    {
     "name": "stdout",
     "output_type": "stream",
     "text": [
      "Initial array: [1 2 3 4 5]\n",
      "[1 2 3 4]\n"
     ]
    }
   ],
   "source": [
    "print(f'Initial array: {array}')\n",
    "print(array[0:-1]) # acessing interval of values (includes index 0; excludes index -1)"
   ]
  },
  {
   "cell_type": "code",
   "execution_count": 8,
   "metadata": {},
   "outputs": [
    {
     "name": "stdout",
     "output_type": "stream",
     "text": [
      "Initial array: [1 2 3 4 5]\n",
      "[1 3]\n"
     ]
    }
   ],
   "source": [
    "print(f'Initial array: {array}')\n",
    "print(array[0:-1:2]) # the third element is the increment"
   ]
  },
  {
   "cell_type": "code",
   "execution_count": 10,
   "metadata": {},
   "outputs": [
    {
     "name": "stdout",
     "output_type": "stream",
     "text": [
      "Initial array: [1 2 3 4 5]\n",
      "[1 3 5]\n",
      "[1 3 5]\n"
     ]
    }
   ],
   "source": [
    "print(f'Initial array: {array}')\n",
    "print(array[0::2]) # includes the last number ('5')\n",
    "print(array[::2]) # includes the last number ('5')"
   ]
  },
  {
   "cell_type": "code",
   "execution_count": 11,
   "metadata": {},
   "outputs": [
    {
     "name": "stdout",
     "output_type": "stream",
     "text": [
      "Initial array: [1 2 3 4 5]\n",
      "[1 2 3 4 5]\n"
     ]
    }
   ],
   "source": [
    "print(f'Initial array: {array}')\n",
    "print(array[::])"
   ]
  },
  {
   "cell_type": "code",
   "execution_count": 12,
   "metadata": {},
   "outputs": [
    {
     "name": "stdout",
     "output_type": "stream",
     "text": [
      "Initial array: [1 2 3 4 5]\n",
      "[5 4 3 2 1]\n"
     ]
    }
   ],
   "source": [
    "print(f'Initial array: {array}')\n",
    "print(array[::-1])"
   ]
  }
 ],
 "metadata": {
  "colab": {
   "provenance": []
  },
  "kernelspec": {
   "display_name": "Python 3 (ipykernel)",
   "language": "python",
   "name": "python3"
  },
  "language_info": {
   "codemirror_mode": {
    "name": "ipython",
    "version": 3
   },
   "file_extension": ".py",
   "mimetype": "text/x-python",
   "name": "python",
   "nbconvert_exporter": "python",
   "pygments_lexer": "ipython3",
   "version": "3.11.5"
  }
 },
 "nbformat": 4,
 "nbformat_minor": 1
}
