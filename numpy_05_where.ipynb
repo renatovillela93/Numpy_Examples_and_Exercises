{
 "cells": [
  {
   "cell_type": "markdown",
   "metadata": {
    "id": "Cmhrkh5FrJkM"
   },
   "source": [
    "# NumPy Getting Started Guide\n",
    "\n",
    "NumPy, which stands for Numerical Python, is a fundamental library for scientific computing in Python. It provides support for arrays and matrices, as well as mathematical functions for operations with these objects. It is also the basis of the Pandas library.\n",
    "\n"
   ]
  },
  {
   "cell_type": "markdown",
   "metadata": {
    "id": "9Z5zSA90rJkP"
   },
   "source": [
    "## Filters and np.where()\n",
    "\n",
    "The `np.where()` function is very useful for making a conditional selection of elements from an array. For example, in a company, you may want to identify which employees have above-average salaries.\n"
   ]
  },
  {
   "cell_type": "code",
   "execution_count": 1,
   "metadata": {
    "ExecuteTime": {
     "end_time": "2023-07-03T19:29:17.084820600Z",
     "start_time": "2023-07-03T19:29:16.980857600Z"
    },
    "id": "1ShS9vWhrJkP",
    "jupyter": {
     "outputs_hidden": false
    },
    "outputId": "16a61123-2572-47b9-94da-e60357f30921"
   },
   "outputs": [
    {
     "name": "stdout",
     "output_type": "stream",
     "text": [
      "3714.285714285714\n"
     ]
    }
   ],
   "source": [
    "import numpy as np\n",
    "\n",
    "# Salários dos funcionários\n",
    "salaries = np.array([3000, 3500, 4000, 2000, 4500, 4000, 5000])\n",
    "\n",
    "# Calcular a média salarial\n",
    "mean_salaries = np.mean(salaries)\n",
    "\n",
    "print(mean_salaries)"
   ]
  },
  {
   "cell_type": "code",
   "execution_count": 3,
   "metadata": {
    "ExecuteTime": {
     "end_time": "2023-07-03T19:29:17.129154400Z",
     "start_time": "2023-07-03T19:29:17.086939600Z"
    },
    "id": "1WrI3kc8rJkR",
    "jupyter": {
     "outputs_hidden": false
    },
    "outputId": "d36806b1-e454-4b00-c80f-233d024f11c8"
   },
   "outputs": [
    {
     "name": "stdout",
     "output_type": "stream",
     "text": [
      "(array([2, 4, 5, 6], dtype=int64),)\n"
     ]
    }
   ],
   "source": [
    "# Identify employees with above-average salaries\n",
    "\n",
    "employees_above = np.where(salaries>mean_salaries)\n",
    "\n",
    "print(employees_above)"
   ]
  },
  {
   "cell_type": "code",
   "execution_count": 6,
   "metadata": {},
   "outputs": [
    {
     "name": "stdout",
     "output_type": "stream",
     "text": [
      "3000\n",
      "[4000 4500 4000 5000]\n",
      "[4000 4500 4000 5000]\n"
     ]
    }
   ],
   "source": [
    "# to access the values\n",
    "print(salaries[0]) \n",
    "\n",
    "# but you can also access with another array\n",
    "print(salaries[employees_above])\n",
    "\n",
    "# you can also do it directly\n",
    "print(salaries[salaries>mean_salaries])"
   ]
  },
  {
   "cell_type": "code",
   "execution_count": 9,
   "metadata": {},
   "outputs": [
    {
     "name": "stdout",
     "output_type": "stream",
     "text": [
      "['below average' 'below average' 'above average' 'below average'\n",
      " 'above average' 'above average' 'above average']\n"
     ]
    }
   ],
   "source": [
    "print(np.where(salaries>mean_salaries,'above average','below average'))"
   ]
  },
  {
   "cell_type": "code",
   "execution_count": 10,
   "metadata": {
    "ExecuteTime": {
     "end_time": "2023-07-03T19:29:17.208467Z",
     "start_time": "2023-07-03T19:29:17.162128100Z"
    },
    "id": "pQ7fvrSCrJkS",
    "jupyter": {
     "outputs_hidden": false
    },
    "outputId": "6640ddca-e1cd-4430-ba49-6fa4116a433a"
   },
   "outputs": [
    {
     "name": "stdout",
     "output_type": "stream",
     "text": [
      "[3300. 3850. 2200.]\n",
      "[3300. 3850. 4000. 2200. 4500. 4000. 5000.]\n"
     ]
    }
   ],
   "source": [
    "# give 10% bonus to employees with below average salaries\n",
    "\n",
    "employees_below = salaries[salaries<mean_salaries]\n",
    "employees_below = employees_below* 1.1\n",
    "print(employees_below)\n",
    "\n",
    "# you can do this with where\n",
    "employees_below = np.where(salaries<mean_salaries, salaries*1.1, salaries)\n",
    "print(employees_below)"
   ]
  },
  {
   "cell_type": "code",
   "execution_count": 12,
   "metadata": {
    "ExecuteTime": {
     "end_time": "2023-07-03T19:29:17.209470100Z",
     "start_time": "2023-07-03T19:29:17.193976700Z"
    },
    "id": "gXxwStJprJkT",
    "jupyter": {
     "outputs_hidden": false
    },
    "outputId": "288691e0-39a2-4d4e-8533-c6f09aac6fe9"
   },
   "outputs": [
    {
     "name": "stdout",
     "output_type": "stream",
     "text": [
      "[3000 3500 4000 4500 4000]\n"
     ]
    }
   ],
   "source": [
    "# filter salaries between 3000 and 4500 with where\n",
    "\n",
    "print(salaries[np.where((salaries>=3000) & (salaries<=4500))]) \n"
   ]
  },
  {
   "cell_type": "code",
   "execution_count": 17,
   "metadata": {},
   "outputs": [
    {
     "name": "stdout",
     "output_type": "stream",
     "text": [
      "[3150. 3675. 4200. 2000. 4725. 4200. 5000.]\n"
     ]
    }
   ],
   "source": [
    "# adjusted salaries\n",
    "\n",
    "adj_salaries = np.where((salaries>=3000) & (salaries<=4500), salaries*1.05, salaries)\n",
    "\n",
    "print(adj_salaries)"
   ]
  },
  {
   "cell_type": "code",
   "execution_count": 18,
   "metadata": {
    "ExecuteTime": {
     "end_time": "2023-07-03T19:29:17.284416500Z",
     "start_time": "2023-07-03T19:29:17.225063300Z"
    },
    "id": "u6z2k_5yrJkT",
    "jupyter": {
     "outputs_hidden": false
    },
    "outputId": "e7fa9021-838a-438b-e725-f56a1cdaa578"
   },
   "outputs": [
    {
     "name": "stdout",
     "output_type": "stream",
     "text": [
      "[3150.  3675.  4200.  2200.  5197.5 4200.  5500. ]\n"
     ]
    }
   ],
   "source": [
    "# filter salaries below 3000 or above 4500 with where\n",
    "\n",
    "adj_salaries = np.where((adj_salaries < 3000) | (adj_salaries > 4500), adj_salaries*1.1, adj_salaries)\n",
    "print(adj_salaries)"
   ]
  }
 ],
 "metadata": {
  "colab": {
   "provenance": []
  },
  "kernelspec": {
   "display_name": "Python 3 (ipykernel)",
   "language": "python",
   "name": "python3"
  },
  "language_info": {
   "codemirror_mode": {
    "name": "ipython",
    "version": 3
   },
   "file_extension": ".py",
   "mimetype": "text/x-python",
   "name": "python",
   "nbconvert_exporter": "python",
   "pygments_lexer": "ipython3",
   "version": "3.11.5"
  }
 },
 "nbformat": 4,
 "nbformat_minor": 1
}
