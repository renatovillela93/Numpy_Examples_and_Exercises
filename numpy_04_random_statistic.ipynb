{
 "cells": [
  {
   "cell_type": "markdown",
   "metadata": {
    "id": "XI0Q33rjqx4K"
   },
   "source": [
    "# NumPy Getting Started Guide\n",
    "\n",
    "NumPy, which stands for Numerical Python, is a fundamental library for scientific computing in Python. It provides support for arrays and matrices, as well as mathematical functions for operations with these objects. It is also the basis of the Pandas library."
   ]
  },
  {
   "cell_type": "markdown",
   "metadata": {
    "id": "ALnMiKvUqx4N"
   },
   "source": [
    "## Random numbers and basic statistics"
   ]
  },
  {
   "cell_type": "code",
   "execution_count": 3,
   "metadata": {
    "id": "k6SV2XzBq4Aw"
   },
   "outputs": [
    {
     "name": "stdout",
     "output_type": "stream",
     "text": [
      "Generator(PCG64)\n"
     ]
    }
   ],
   "source": [
    "import numpy as np\n",
    "\n",
    "rng = np.random.default_rng()\n",
    "\n",
    "print(rng)"
   ]
  },
  {
   "cell_type": "code",
   "execution_count": 5,
   "metadata": {},
   "outputs": [
    {
     "name": "stdout",
     "output_type": "stream",
     "text": [
      "0.8586586408535858\n",
      "1.904963446070077\n"
     ]
    }
   ],
   "source": [
    "random_number = rng.random() # create number between 0-1\n",
    "random_number2 = rng.random()*10 # change the range of the number\n",
    "\n",
    "print(random_number)\n",
    "print(random_number2)"
   ]
  },
  {
   "cell_type": "code",
   "execution_count": 7,
   "metadata": {},
   "outputs": [
    {
     "name": "stdout",
     "output_type": "stream",
     "text": [
      "[0.86557138 0.87972105 0.91710165]\n",
      "[12.92457409 98.42831672 74.80209901]\n"
     ]
    }
   ],
   "source": [
    "random_array = rng.random(3)\n",
    "print(random_array)\n",
    "\n",
    "random_array2 = rng.random(3)*100\n",
    "print(random_array2)"
   ]
  },
  {
   "cell_type": "markdown",
   "metadata": {
    "id": "J4snhyVNqx4Q"
   },
   "source": [
    " Let's create a scenario where this random data can be useful for a sales analysis.\n",
    "\n",
    "Suppose you are a sales analyst at a company and want to better understand the sales performance of a specific product. However, you don't have access to the actual sales data, so you decide to generate some random sales data to perform your analysis."
   ]
  },
  {
   "cell_type": "code",
   "execution_count": 9,
   "metadata": {
    "id": "pa8UvoZJqx4Q",
    "outputId": "704c10b2-d278-446f-e592-9e5ace8eee89"
   },
   "outputs": [
    {
     "name": "stdout",
     "output_type": "stream",
     "text": [
      "[ 63 166 148 115 114 178  62 154  80  64 128 196 160 164 157 167 126  69\n",
      " 175 117 125 105  77 189 167 146 110 173 131 116]\n"
     ]
    }
   ],
   "source": [
    "# Generate fake sales data for 30 days\n",
    "# Let's assume sales of a product can vary from 50 to 200 per day\n",
    "\n",
    "rng = np.random.default_rng(seed=42)\n",
    "data_sales = rng.integers(low=50, high=200, size=30)\n",
    "print(data_sales)"
   ]
  },
  {
   "cell_type": "markdown",
   "metadata": {
    "id": "PMoBGzLJqx4Q"
   },
   "source": [
    "Now, you can use this data to perform various analyses. For example, you may want to know which day had the highest sales, the lowest sales, or the average sales during the month. Here is how you can do this:\n"
   ]
  },
  {
   "cell_type": "code",
   "execution_count": 11,
   "metadata": {
    "id": "o19wgc_Fq8M_"
   },
   "outputs": [
    {
     "name": "stdout",
     "output_type": "stream",
     "text": [
      "The day with the highest sales was 12, the one with minimum was 7, and mean was 131.4.\n"
     ]
    }
   ],
   "source": [
    "highest_sales_day = np.argmax(data_sales)+1 # because this is the day, not the index\n",
    "lowest_sales_day = np.argmin(data_sales)+1\n",
    "mean_sales = np.mean(data_sales)\n",
    "\n",
    "print(f'The day with the highest sales was {highest_sales_day}, the one with minimum was {lowest_sales_day}, and mean was {mean_sales}.')"
   ]
  },
  {
   "cell_type": "markdown",
   "metadata": {
    "id": "jlm7p2F-qx4T"
   },
   "source": [
    "Brief summary and simplified concepts of the statistical functions mentioned:\n",
    "\n",
    "1. Median:\n",
    "The median is a value that divides a set of data into two equal parts. To find it, you must organize the data in ascending or descending order and choose the middle value. If there is an odd number of data, the median will be exactly the central value. If there is an even number of data, the median will be the average of the two middle values.\n",
    "\n",
    "2. Percentile:\n",
    "The percentile is a statistical measure that indicates the relative position of a piece of data within a set of data. It informs the percentage of values that are below this data. For example, the 50th percentile (also known as the median) divides the data into two equal parts, with 50% of the values below it and 50% above it.\n",
    "\n",
    "3. Standard deviation:\n",
    "Standard deviation is a measure that indicates how spread out the values in a data set are relative to the mean. It shows the variability of the data relative to the average value. A larger standard deviation indicates that the data is more spread out, while a smaller standard deviation indicates that the data is closer to the mean.\n",
    "\n",
    "4. Variance:\n",
    "Variance is another measure of dispersion that indicates how far the values in a data set are from the mean. It is calculated as the average of the squares of the differences between each value and the mean. Variance provides a measure of the total dispersion of the data, regardless of whether it is greater or less than the mean.\n",
    "\n",
    "These measures are widely used in statistics to summarize and analyze data sets. They provide valuable information about the distribution, variability and position of data, allowing a more complete understanding of it."
   ]
  },
  {
   "cell_type": "code",
   "execution_count": 15,
   "metadata": {},
   "outputs": [
    {
     "name": "stdout",
     "output_type": "stream",
     "text": [
      "129.5\n",
      "129.5\n",
      "39.305300745149715\n",
      "1544.9066666666665\n"
     ]
    }
   ],
   "source": [
    "print(np.median(data_sales)) # median\n",
    "print(np.percentile(data_sales,50)) # percentile 50\n",
    "print(np.std(data_sales)) # standard deviation\n",
    "print(np.var(data_sales)) # variance"
   ]
  }
 ],
 "metadata": {
  "colab": {
   "provenance": []
  },
  "kernelspec": {
   "display_name": "Python 3 (ipykernel)",
   "language": "python",
   "name": "python3"
  },
  "language_info": {
   "codemirror_mode": {
    "name": "ipython",
    "version": 3
   },
   "file_extension": ".py",
   "mimetype": "text/x-python",
   "name": "python",
   "nbconvert_exporter": "python",
   "pygments_lexer": "ipython3",
   "version": "3.11.5"
  }
 },
 "nbformat": 4,
 "nbformat_minor": 1
}
