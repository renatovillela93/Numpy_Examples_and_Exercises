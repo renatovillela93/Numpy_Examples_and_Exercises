{
 "cells": [
  {
   "cell_type": "markdown",
   "metadata": {
    "id": "BVKaxu0ppS0l"
   },
   "source": [
    "# NumPy Getting Started Guide\n",
    "\n",
    "NumPy, which stands for Numerical Python, is a fundamental library for scientific computing in Python. But its capabilities go far beyond that, as we will see in these videos. And it serves as a good foundation for Pandas, which is one of the most popular libraries for data analysis in Python."
   ]
  },
  {
   "cell_type": "code",
   "execution_count": null,
   "metadata": {
    "id": "AFLu4-arpS0o",
    "jupyter": {
     "outputs_hidden": false
    }
   },
   "outputs": [],
   "source": [
    "# !pip install numpy"
   ]
  },
  {
   "cell_type": "markdown",
   "metadata": {
    "id": "JG5mbDHvpS0p"
   },
   "source": [
    "## NumPy Arrays\n",
    "\n",
    "An array is a data structure that stores values of the same type. In Python, this is a big advantage because it saves space and allows for more efficient operations."
   ]
  },
  {
   "cell_type": "code",
   "execution_count": 2,
   "metadata": {
    "id": "wou4zRsipYcR"
   },
   "outputs": [
    {
     "name": "stdout",
     "output_type": "stream",
     "text": [
      "[1 2 3 4 5]\n"
     ]
    }
   ],
   "source": [
    "import numpy as np\n",
    "\n",
    "array = np.array([1,2,3,4,5])\n",
    "\n",
    "print(array)"
   ]
  },
  {
   "cell_type": "markdown",
   "metadata": {
    "id": "byBKpRdnpS0q"
   },
   "source": [
    "It is important to understand the difference between a list and an array.\n",
    "\n",
    "A **list** is one of the most basic data structures in Python. It can contain any type of elements, such as numbers, strings, other lists, and they can all be of different types. For example:\n"
   ]
  },
  {
   "cell_type": "code",
   "execution_count": 14,
   "metadata": {
    "id": "-lMHXuskpujN"
   },
   "outputs": [
    {
     "name": "stdout",
     "output_type": "stream",
     "text": [
      "[1, 'two', 3.0]\n",
      "<class 'list'>\n",
      "<class 'int'>\n",
      "<class 'str'>\n",
      "<class 'float'>\n"
     ]
    }
   ],
   "source": [
    "list1=[1,'two',3.0]\n",
    "\n",
    "print(list1)\n",
    "print(type(list1))\n",
    "\n",
    "for el in list1:\n",
    "    print(type(el))"
   ]
  },
  {
   "cell_type": "markdown",
   "metadata": {
    "id": "Tko5ffjnpS0r"
   },
   "source": [
    "An **array**, on the other hand, is a data structure that also stores elements, but all elements must be of the same type. If you try to create an array with elements of different types, NumPy will convert them all to the more general type. For example:"
   ]
  },
  {
   "cell_type": "code",
   "execution_count": 8,
   "metadata": {
    "id": "4mxRmRGrpw_p"
   },
   "outputs": [
    {
     "name": "stdout",
     "output_type": "stream",
     "text": [
      "['1' 'two' '3.0']\n",
      "<class 'numpy.str_'>\n",
      "<class 'numpy.str_'>\n",
      "<class 'numpy.str_'>\n",
      "<U32\n"
     ]
    }
   ],
   "source": [
    "array = np.array(list)\n",
    "\n",
    "print(array)\n",
    "\n",
    "for el in array:\n",
    "    print(type(el))\n",
    "\n",
    "# or you can use dtype\n",
    "print(array.dtype) # Unicode 32 bits"
   ]
  },
  {
   "cell_type": "markdown",
   "metadata": {
    "id": "npbEgJJkpS0s"
   },
   "source": [
    "## Math operations\n",
    "\n",
    "If you try to add a number to all elements in a list, you will receive an error.\n",
    "\n"
   ]
  },
  {
   "cell_type": "code",
   "execution_count": 9,
   "metadata": {
    "id": "ZJ3tCJPYpzQf"
   },
   "outputs": [
    {
     "ename": "TypeError",
     "evalue": "can only concatenate list (not \"int\") to list",
     "output_type": "error",
     "traceback": [
      "\u001b[1;31m---------------------------------------------------------------------------\u001b[0m",
      "\u001b[1;31mTypeError\u001b[0m                                 Traceback (most recent call last)",
      "Cell \u001b[1;32mIn[9], line 4\u001b[0m\n\u001b[0;32m      1\u001b[0m array \u001b[38;5;241m=\u001b[39m np\u001b[38;5;241m.\u001b[39marray([\u001b[38;5;241m1\u001b[39m,\u001b[38;5;241m2\u001b[39m,\u001b[38;5;241m3\u001b[39m,\u001b[38;5;241m4\u001b[39m,\u001b[38;5;241m5\u001b[39m])\n\u001b[0;32m      3\u001b[0m list1 \u001b[38;5;241m=\u001b[39m [\u001b[38;5;241m1\u001b[39m,\u001b[38;5;241m2\u001b[39m,\u001b[38;5;241m3\u001b[39m,\u001b[38;5;241m4\u001b[39m,\u001b[38;5;241m5\u001b[39m]\n\u001b[1;32m----> 4\u001b[0m new_list1 \u001b[38;5;241m=\u001b[39m list1\u001b[38;5;241m+\u001b[39m\u001b[38;5;241m1\u001b[39m\n",
      "\u001b[1;31mTypeError\u001b[0m: can only concatenate list (not \"int\") to list"
     ]
    }
   ],
   "source": [
    "list1 = [1,2,3,4,5]\n",
    "new_list1 = list1+1 # if you try to add 1 in each element will raise a TypeError\n",
    "\n",
    "# you can solve this with a for loop. Check below."
   ]
  },
  {
   "cell_type": "code",
   "execution_count": 10,
   "metadata": {},
   "outputs": [
    {
     "name": "stdout",
     "output_type": "stream",
     "text": [
      "[2, 3, 4, 5, 6]\n"
     ]
    }
   ],
   "source": [
    "new_list1=[]\n",
    "\n",
    "for number in list1:\n",
    "    new_list1.append(number+1)\n",
    "\n",
    "print(new_list1)\n",
    "\n",
    "# So, it worked. But, how can we solve this problem with a numpy array? Check below."
   ]
  },
  {
   "cell_type": "markdown",
   "metadata": {
    "id": "Q7VujUWXpS0s"
   },
   "source": [
    "With a NumPy array, you can add (or subtract, multiply, divide) a number to all elements at once.\n",
    "\n"
   ]
  },
  {
   "cell_type": "code",
   "execution_count": 12,
   "metadata": {
    "id": "z_IVsBH9p1Dd"
   },
   "outputs": [
    {
     "name": "stdout",
     "output_type": "stream",
     "text": [
      "[2 3 4 5 6]\n"
     ]
    }
   ],
   "source": [
    "array = np.array([1,2,3,4,5])\n",
    "\n",
    "new_array = array + 1 # adding 1 to all elements\n",
    "print(new_array)"
   ]
  },
  {
   "cell_type": "markdown",
   "metadata": {
    "id": "_T3MaA0NpS0t"
   },
   "source": [
    "## Performance\n",
    "\n",
    "For large amounts of data, NumPy arrays are significantly more memory and performance efficient than Python lists. Here is an example that demonstrates this:\n",
    "\n"
   ]
  },
  {
   "cell_type": "code",
   "execution_count": 3,
   "metadata": {
    "id": "tDG8l7UXp2QF"
   },
   "outputs": [
    {
     "name": "stdout",
     "output_type": "stream",
     "text": [
      "Time to sum all numbers in the List: 0.3453941345214844 seconds\n",
      "Time to sum all numbers in the Array: 0.0 seconds\n"
     ]
    }
   ],
   "source": [
    "import time\n",
    "\n",
    "# create a list and an array w/ 10 million numbers\n",
    "list1 = list(range(1,10_000_001))\n",
    "array = np.array(range(1,10_000_001))\n",
    "\n",
    "# calculate the sum of all numbers - list\n",
    "start = time.time()\n",
    "sum_list1 = sum(list1)\n",
    "end = time.time()\n",
    "\n",
    "print(f'Time to sum all numbers in the List: {end-start} seconds')\n",
    "\n",
    "# calculate the sum of all numbers - array\n",
    "start = time.time()\n",
    "sum_array = np.sum(array)\n",
    "end = time.time()\n",
    "\n",
    "print(f'Time to sum all numbers in the Array: {end-start} seconds')\n"
   ]
  },
  {
   "cell_type": "markdown",
   "metadata": {
    "id": "8OSreiN_pS0t"
   },
   "source": [
    "## In summary\n",
    "\n",
    "Here are some key differences between lists and arrays:\n",
    "\n",
    "1. **Data type**: Lists can store elements of different types at the same time, while arrays store elements of the same type.\n",
    "\n",
    "2. **Mathematical operations**: You can perform mathematical operations on all elements of an array at once, which is not possible with lists.\n",
    "\n",
    "3. **Performance**: Arrays are more memory and performance efficient than lists when working with large amounts of numeric data.\n",
    "\n",
    "4. **Features**: NumPy arrays come with several built-in functions for mathematical and scientific operations such as averaging, summing, matrix multiplication, etc., which are not available with lists."
   ]
  }
 ],
 "metadata": {
  "colab": {
   "provenance": []
  },
  "kernelspec": {
   "display_name": "Python 3 (ipykernel)",
   "language": "python",
   "name": "python3"
  },
  "language_info": {
   "codemirror_mode": {
    "name": "ipython",
    "version": 3
   },
   "file_extension": ".py",
   "mimetype": "text/x-python",
   "name": "python",
   "nbconvert_exporter": "python",
   "pygments_lexer": "ipython3",
   "version": "3.11.5"
  }
 },
 "nbformat": 4,
 "nbformat_minor": 1
}
