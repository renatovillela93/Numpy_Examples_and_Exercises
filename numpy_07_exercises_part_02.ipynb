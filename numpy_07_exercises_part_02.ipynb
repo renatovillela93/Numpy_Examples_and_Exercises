{
 "cells": [
  {
   "cell_type": "markdown",
   "metadata": {},
   "source": [
    "## Exercise\n",
    "\n",
    "You are a production engineer and you have the cycle times (in minutes) of a production line in a NumPy array. Your job is to identify any cycle times that are two standard deviations above or below the average. Use the following array for your analysis: `cycle_times = np.array([5.5, 5.7, 5.9, 6.0, 5.8, 5.6, 5.7, 7.2, 4.8])`."
   ]
  },
  {
   "cell_type": "code",
   "execution_count": 1,
   "metadata": {
    "ExecuteTime": {
     "end_time": "2023-07-03T12:12:12.700234800Z",
     "start_time": "2023-07-03T12:12:12.644925Z"
    },
    "jupyter": {
     "outputs_hidden": false
    }
   },
   "outputs": [],
   "source": [
    "import numpy as np\n",
    "\n",
    "times_cycle = np.array([5.5, 5.7, 5.9, 6.0, 5.8, 5.6, 5.7, 7.2, 4.8])\n",
    "mean_cycle = np.mean(times_cycle) "
   ]
  },
  {
   "cell_type": "code",
   "execution_count": 6,
   "metadata": {},
   "outputs": [
    {
     "name": "stdout",
     "output_type": "stream",
     "text": [
      "0.592546294487706\n",
      "[7.2]\n"
     ]
    }
   ],
   "source": [
    "cycles_std = np.std(times_cycle)\n",
    "print(cycles_std)\n",
    "\n",
    "cycles_two_std = np.where((times_cycle>(mean_cycle+(2*cycles_std))) | (times_cycle<(mean_cycle-(2*cycles_std))))\n",
    "print(times_cycle[cycles_two_std])"
   ]
  },
  {
   "cell_type": "code",
   "execution_count": 7,
   "metadata": {},
   "outputs": [
    {
     "name": "stdout",
     "output_type": "stream",
     "text": [
      "[5.98055898 5.18376127 6.24467708 6.35732814 4.64392133 5.02839836\n",
      " 5.87575136 5.61261162 5.79004454 5.29453198 6.32108401 6.26087773\n",
      " 5.83912625 6.4679426  6.07702093 5.29082944 6.01850191 5.23181767\n",
      " 6.32052247 5.77041659 5.69046049 5.39651772 6.52441234 5.70843413\n",
      " 5.54619594 5.59134457 6.11541784 6.01654253 6.04456318 6.05528139\n",
      " 7.06902535 5.55918029 5.49647247 5.31780199 6.16499632 6.46896835\n",
      " 5.73248086 5.30216839 5.31145671 6.18550635 6.24041251 6.12184405\n",
      " 5.40565469 5.93756633 5.86914174 5.92958312 6.31636189 5.93249071\n",
      " 6.20228772 5.84004373 5.97131663 6.1740675  4.93656772 5.61058001\n",
      " 5.52128243 5.4214353  5.63696548 6.68582193 5.28695498 6.37374975\n",
      " 4.80282175 5.60156512 5.89643873 6.14736387 6.22143467 6.27009496\n",
      " 5.59336425 5.52603516 6.30839043 5.68664333 5.0440968  5.12847486\n",
      " 5.25518195 6.09459076 5.88439384 6.20914454 5.54683303 5.89394211\n",
      " 6.17069127 5.61669785 6.07066047 5.40777824 5.58487379 5.57380263\n",
      " 5.09140965 6.08855374 5.52185738 5.80740334 6.08486465 6.06459039\n",
      " 6.19427148 5.74164279 5.54917615 5.75276327 4.80017623 4.94251887\n",
      " 5.01623925 5.20908509 6.03688474 5.26346174]\n"
     ]
    }
   ],
   "source": [
    "# bonus\n",
    "rng = np.random.default_rng(seed=42)\n",
    "new_values = rng.normal(loc=mean_cycle, scale=cycles_std, size=100)\n",
    "print(new_values)"
   ]
  },
  {
   "cell_type": "code",
   "execution_count": 8,
   "metadata": {},
   "outputs": [
    {
     "name": "stdout",
     "output_type": "stream",
     "text": [
      "[5.61261162]\n"
     ]
    }
   ],
   "source": [
    "# we can calculate the same thing, but with the new values\n",
    "new_values_two_std = np.where((new_values>(mean_cycle+(2*cycles_std))) | (new_values<(mean_cycle-(2*cycles_std))))\n",
    "print(new_values[cycles_two_std])"
   ]
  }
 ],
 "metadata": {
  "kernelspec": {
   "display_name": "Python 3 (ipykernel)",
   "language": "python",
   "name": "python3"
  },
  "language_info": {
   "codemirror_mode": {
    "name": "ipython",
    "version": 3
   },
   "file_extension": ".py",
   "mimetype": "text/x-python",
   "name": "python",
   "nbconvert_exporter": "python",
   "pygments_lexer": "ipython3",
   "version": "3.11.5"
  }
 },
 "nbformat": 4,
 "nbformat_minor": 4
}
