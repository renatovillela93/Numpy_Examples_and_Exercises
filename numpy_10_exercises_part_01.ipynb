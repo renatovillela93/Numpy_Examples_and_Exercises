{
 "cells": [
  {
   "cell_type": "markdown",
   "metadata": {},
   "source": [
    "## Exercise\n",
    "\n",
    "You are a sales manager and you have the sales data of three different products (Product A, Product B, Product C) for the last 5 days in a 2D NumPy array. Each row of the array represents a product and each column represents a day. Your job is to calculate total sales for each product and for each day.\n",
    "\n",
    "Use the following array for your analysis:\n",
    "\n",
    "```python\n",
    "sales = np.array([[50, 60, 70, 65, 80],\n",
    "                    [85, 90, 78, 92, 88],\n",
    "                    [72, 75, 68, 77, 76]])\n",
    "```\n",
    "\n",
    "**Solution:**\n"
   ]
  },
  {
   "cell_type": "code",
   "execution_count": 1,
   "metadata": {
    "ExecuteTime": {
     "end_time": "2023-07-03T12:12:12.700234800Z",
     "start_time": "2023-07-03T12:12:12.677347900Z"
    },
    "jupyter": {
     "outputs_hidden": false
    }
   },
   "outputs": [],
   "source": [
    "import numpy as np\n",
    "\n",
    "sales = np.array([[50, 60, 70, 65, 80],\n",
    "                   [85, 90, 78, 92, 88],\n",
    "                   [72, 75, 68, 77, 76]])\n"
   ]
  },
  {
   "cell_type": "code",
   "execution_count": 12,
   "metadata": {},
   "outputs": [
    {
     "name": "stdout",
     "output_type": "stream",
     "text": [
      "The total sales for product A was $325.00.\n",
      "The total sales for product B was $433.00.\n",
      "The total sales for product C was $368.00.\n"
     ]
    }
   ],
   "source": [
    "# total sales for each product\n",
    "total_sales = sales.sum(axis=1)\n",
    "\n",
    "total_sales_a = total_sales[0]\n",
    "total_sales_b = total_sales[1]\n",
    "total_sales_c = total_sales[2]\n",
    "\n",
    "print(f'The total sales for product A was ${total_sales_a:.2f}.')\n",
    "print(f'The total sales for product B was ${total_sales_b:.2f}.')\n",
    "print(f'The total sales for product C was ${total_sales_c:.2f}.')"
   ]
  },
  {
   "cell_type": "code",
   "execution_count": 11,
   "metadata": {},
   "outputs": [
    {
     "name": "stdout",
     "output_type": "stream",
     "text": [
      "The total sales on Monday was $207.00.\n",
      "The total sales on Tuesday was $225.00.\n",
      "The total sales on Wednesday was $216.00.\n",
      "The total sales on Thursday was $234.00.\n",
      "The total sales on Friday was $244.00.\n"
     ]
    }
   ],
   "source": [
    "# total sales for each day\n",
    "total_sales_day = sales.sum(axis=0)\n",
    "\n",
    "print(f'The total sales on Monday was ${total_sales_day[0]:.2f}.')\n",
    "print(f'The total sales on Tuesday was ${total_sales_day[1]:.2f}.')\n",
    "print(f'The total sales on Wednesday was ${total_sales_day[2]:.2f}.')\n",
    "print(f'The total sales on Thursday was ${total_sales_day[3]:.2f}.')\n",
    "print(f'The total sales on Friday was ${total_sales_day[4]:.2f}.')"
   ]
  },
  {
   "cell_type": "code",
   "execution_count": 13,
   "metadata": {},
   "outputs": [
    {
     "name": "stdout",
     "output_type": "stream",
     "text": [
      "The total sales on day 1 was $207.00.\n",
      "The total sales on day 2 was $225.00.\n",
      "The total sales on day 3 was $216.00.\n",
      "The total sales on day 4 was $234.00.\n",
      "The total sales on day 5 was $244.00.\n"
     ]
    }
   ],
   "source": [
    "# it is possible to automate the print\n",
    "\n",
    "for i in range(5):\n",
    "    print(f'The total sales on day {i + 1} was ${total_sales_day[i]:.2f}.')"
   ]
  }
 ],
 "metadata": {
  "kernelspec": {
   "display_name": "Python 3 (ipykernel)",
   "language": "python",
   "name": "python3"
  },
  "language_info": {
   "codemirror_mode": {
    "name": "ipython",
    "version": 3
   },
   "file_extension": ".py",
   "mimetype": "text/x-python",
   "name": "python",
   "nbconvert_exporter": "python",
   "pygments_lexer": "ipython3",
   "version": "3.11.5"
  }
 },
 "nbformat": 4,
 "nbformat_minor": 4
}
