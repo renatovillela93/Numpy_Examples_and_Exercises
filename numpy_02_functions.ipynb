{
 "cells": [
  {
   "cell_type": "markdown",
   "metadata": {
    "id": "rR3rh9cYqcws"
   },
   "source": [
    "# NumPy Getting Started Guide\n",
    "\n",
    "NumPy, which stands for Numerical Python, is a fundamental library for scientific computing in Python. It provides support for arrays and matrices, as well as mathematical functions for operations with these objects. It is also the basis of the Pandas library."
   ]
  },
  {
   "cell_type": "markdown",
   "metadata": {
    "id": "0ER-Tgwmqcwv"
   },
   "source": [
    "## Everyday applications\n",
    "\n",
    "Let's assume you work in a sales company and have prices for different products in a list. You want to increase the price of all products by 10%. With NumPy, this is simple.\n",
    "\n"
   ]
  },
  {
   "cell_type": "code",
   "execution_count": 2,
   "metadata": {
    "ExecuteTime": {
     "end_time": "2023-07-03T19:00:02.096368900Z",
     "start_time": "2023-07-03T19:00:01.993018200Z"
    },
    "id": "DU6nmkgTqcww",
    "jupyter": {
     "outputs_hidden": false
    },
    "outputId": "3be762e9-de05-4189-b87f-bb67ef8b759e"
   },
   "outputs": [
    {
     "name": "stdout",
     "output_type": "stream",
     "text": [
      "[22.  27.5 33.  38.5 44. ]\n"
     ]
    }
   ],
   "source": [
    "import numpy as np\n",
    "\n",
    "# Product prices\n",
    "prices = np.array([20, 25, 30, 35, 40])\n",
    "\n",
    "# Increase prices by 10% (e.g. inflation adjustment)\n",
    "new_prices = prices*1.1\n",
    "\n",
    "print(new_prices)"
   ]
  },
  {
   "cell_type": "markdown",
   "metadata": {
    "id": "8Ri_Bnuoqcwx"
   },
   "source": [
    "## np.sum()\n",
    "\n",
    "NumPy comes with many useful functions. For example, you can use the `sum()` function to sum all the elements in an array. This can be useful to add up all sales for a day, for example.\n",
    "\n"
   ]
  },
  {
   "cell_type": "code",
   "execution_count": 3,
   "metadata": {
    "ExecuteTime": {
     "end_time": "2023-07-03T19:00:02.114631Z",
     "start_time": "2023-07-03T19:00:02.098862600Z"
    },
    "id": "tjocSaWPqcwx",
    "jupyter": {
     "outputs_hidden": false
    },
    "outputId": "a45d577a-05e9-46fa-cf8a-cd28c448c9a6"
   },
   "outputs": [
    {
     "name": "stdout",
     "output_type": "stream",
     "text": [
      "1180\n"
     ]
    }
   ],
   "source": [
    "import numpy as np\n",
    "\n",
    "# Sales of the day\n",
    "sales = np.array([200, 220, 250, 210, 300])\n",
    "\n",
    "# Add up all sales\n",
    "sum_sales = sales.sum()\n",
    "\n",
    "print(sum_sales)"
   ]
  },
  {
   "cell_type": "markdown",
   "metadata": {
    "id": "D_IxjMu8qcwx"
   },
   "source": [
    "## np.mean()\n",
    "\n",
    "The `mean()` function is used to calculate the mean of an array. For example, if you want to calculate the average daily sales in a week.\n"
   ]
  },
  {
   "cell_type": "code",
   "execution_count": 5,
   "metadata": {
    "ExecuteTime": {
     "end_time": "2023-07-03T19:00:02.156169700Z",
     "start_time": "2023-07-03T19:00:02.112124500Z"
    },
    "id": "s6f5qYjtqcwy",
    "jupyter": {
     "outputs_hidden": false
    },
    "outputId": "b0c91495-98d8-40fe-b03e-03a8ee657401"
   },
   "outputs": [
    {
     "name": "stdout",
     "output_type": "stream",
     "text": [
      "The mean of sales is 241.43.\n"
     ]
    }
   ],
   "source": [
    "import numpy as np\n",
    "\n",
    "# Daily sales in a week\n",
    "sales = np.array([200, 220, 250, 210, 300, 280, 230])\n",
    "\n",
    "# Calculate average sales\n",
    "mean_sales = sales.mean()\n",
    "\n",
    "print(f'The mean of sales is {mean_sales:.2f}.')"
   ]
  },
  {
   "cell_type": "markdown",
   "metadata": {
    "id": "P3V2QLECqcwy"
   },
   "source": [
    "## np.max() e np.min()\n",
    "\n",
    "The `max()` and `min()` functions are used to find the maximum and minimum value in an array respectively. For example, to find the most expensive and cheapest product.\n",
    "\n"
   ]
  },
  {
   "cell_type": "code",
   "execution_count": 7,
   "metadata": {
    "ExecuteTime": {
     "end_time": "2023-07-03T19:00:02.156169700Z",
     "start_time": "2023-07-03T19:00:02.128951400Z"
    },
    "id": "sghy1blBqcwy",
    "jupyter": {
     "outputs_hidden": false
    },
    "outputId": "5e38ea65-c9c5-4fc6-9b60-7c698bad7ad3"
   },
   "outputs": [
    {
     "name": "stdout",
     "output_type": "stream",
     "text": [
      "40\n",
      "20\n"
     ]
    }
   ],
   "source": [
    "import numpy as np\n",
    "\n",
    "# Product prices\n",
    "prices = np.array([20, 25, 30, 35, 40])\n",
    "\n",
    "# Find the most expensive and cheapest product\n",
    "product_more_expensive = prices.max()\n",
    "product_cheaper = prices.min()\n",
    "\n",
    "print(product_more_expensive)\n",
    "print(product_cheaper)"
   ]
  },
  {
   "cell_type": "markdown",
   "metadata": {
    "id": "xw5AhvHmqcwy"
   },
   "source": [
    "## np.sort()\n",
    "\n",
    "The `sort()` function is used to sort the elements of an array. For example, to sort daily sales.\n",
    "\n"
   ]
  },
  {
   "cell_type": "code",
   "execution_count": 9,
   "metadata": {
    "ExecuteTime": {
     "end_time": "2023-07-03T19:00:02.165578300Z",
     "start_time": "2023-07-03T19:00:02.145146900Z"
    },
    "id": "c5kfsrzvqcwz",
    "jupyter": {
     "outputs_hidden": false
    },
    "outputId": "39835611-9df0-4aa4-a830-c546526f8073"
   },
   "outputs": [
    {
     "name": "stdout",
     "output_type": "stream",
     "text": [
      "[200 210 220 250 300]\n"
     ]
    }
   ],
   "source": [
    "import numpy as np\n",
    "\n",
    "# Daily sales\n",
    "sales = np.array([200, 220, 250, 210, 300])\n",
    "\n",
    "# Order sales\n",
    "sales_ordered = np.sort(sales)\n",
    "\n",
    "print(sales_ordered)"
   ]
  },
  {
   "cell_type": "markdown",
   "metadata": {
    "id": "_EXPcU3iqcwz"
   },
   "source": [
    "## np.dot()\n",
    "\n",
    "The `np.dot()` function is used to calculate the dot product of two arrays. For example, in a retail business, you may want to calculate the total sales value given the number of each product sold and the price of each product.\n"
   ]
  },
  {
   "cell_type": "code",
   "execution_count": 11,
   "metadata": {
    "ExecuteTime": {
     "end_time": "2023-07-03T19:00:02.183839Z",
     "start_time": "2023-07-03T19:00:02.158170300Z"
    },
    "id": "T5VsfLV3qcwz",
    "jupyter": {
     "outputs_hidden": false
    }
   },
   "outputs": [
    {
     "name": "stdout",
     "output_type": "stream",
     "text": [
      "[ 50 200 450 800]\n",
      "1500\n"
     ]
    }
   ],
   "source": [
    "import numpy as np\n",
    "\n",
    "# Number of products sold\n",
    "quant = np.array([10, 20, 30, 40])\n",
    "\n",
    "# Product prices\n",
    "prices = np.array([5, 10, 15, 20])\n",
    "\n",
    "# Calculate the total sales value?\n",
    "print(quant*prices)\n",
    "print(np.sum(quant*prices))"
   ]
  },
  {
   "cell_type": "code",
   "execution_count": 12,
   "metadata": {
    "id": "btzoPLLAqnrM"
   },
   "outputs": [
    {
     "name": "stdout",
     "output_type": "stream",
     "text": [
      "1500\n"
     ]
    }
   ],
   "source": [
    "# using np.dot()\n",
    "print(np.dot(quant, prices))"
   ]
  }
 ],
 "metadata": {
  "colab": {
   "provenance": []
  },
  "kernelspec": {
   "display_name": "Python 3 (ipykernel)",
   "language": "python",
   "name": "python3"
  },
  "language_info": {
   "codemirror_mode": {
    "name": "ipython",
    "version": 3
   },
   "file_extension": ".py",
   "mimetype": "text/x-python",
   "name": "python",
   "nbconvert_exporter": "python",
   "pygments_lexer": "ipython3",
   "version": "3.11.5"
  }
 },
 "nbformat": 4,
 "nbformat_minor": 1
}
