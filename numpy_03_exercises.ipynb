{
 "cells": [
  {
   "cell_type": "markdown",
   "metadata": {},
   "source": [
    "## Exercise 1\n",
    "\n",
    "You are a sales manager and you have sales data for a product for the last 7 days in a list: `[127, 90, 201, 150, 210, 220, 115]`. Calculate the average sales during the week."
   ]
  },
  {
   "cell_type": "code",
   "execution_count": 1,
   "metadata": {
    "jupyter": {
     "outputs_hidden": false
    }
   },
   "outputs": [
    {
     "name": "stdout",
     "output_type": "stream",
     "text": [
      "[127  90 201 150 210 220 115]\n"
     ]
    }
   ],
   "source": [
    "import numpy as np\n",
    "\n",
    "data = [127, 90, 201, 150, 210, 220, 115]\n",
    "\n",
    "sales = np.array(data)\n",
    "\n",
    "print(sales)"
   ]
  },
  {
   "cell_type": "code",
   "execution_count": 2,
   "metadata": {},
   "outputs": [
    {
     "name": "stdout",
     "output_type": "stream",
     "text": [
      "The mean of sales was 159.0.\n"
     ]
    }
   ],
   "source": [
    "mean_sales = np.mean(sales)\n",
    "print(f'The mean of sales was {mean_sales}.')"
   ]
  },
  {
   "cell_type": "markdown",
   "metadata": {},
   "source": [
    "## Exercise 2\n",
    "\n",
    "You are a financial analyst and you have the daily closing prices of a stock for the last week in a NumPy array: `prices = np.array([31.40, 31.25, 30.95, 31.20, 31.60, 31.50])`. Calculate the maximum, minimum price and price variation during the week."
   ]
  },
  {
   "cell_type": "code",
   "execution_count": 5,
   "metadata": {
    "jupyter": {
     "outputs_hidden": false
    }
   },
   "outputs": [
    {
     "name": "stdout",
     "output_type": "stream",
     "text": [
      "The maximum is 31.6.\n",
      "The minimum is 30.95.\n",
      "The variation is equal to 0.65.\n"
     ]
    }
   ],
   "source": [
    "import numpy as np\n",
    "\n",
    "prices = np.array([31.40, 31.25, 30.95, 31.20, 31.60, 31.50])\n",
    "\n",
    "prices_max = np.max(prices)\n",
    "print(f'The maximum is {prices_max}.')\n",
    "\n",
    "prices_min = np.min(prices)\n",
    "print(f'The minimum is {prices_min}.')\n",
    "\n",
    "variation_prices = prices_max - prices_min\n",
    "print(f'The variation is equal to {variation_prices:.2f}.')"
   ]
  },
  {
   "cell_type": "markdown",
   "metadata": {},
   "source": [
    "## Exercise 3\n",
    "\n",
    "Your store sold 5 units of *Product A*, 3 units of *Product B* and 2 units of *Product C* in one day. The prices of the products are, respectively, 100, 200 and 50 reais. Calculate the total sales for the day."
   ]
  },
  {
   "cell_type": "code",
   "execution_count": 7,
   "metadata": {},
   "outputs": [
    {
     "name": "stdout",
     "output_type": "stream",
     "text": [
      "The total sale of the day was equal to R$1200.00.\n"
     ]
    }
   ],
   "source": [
    "import numpy as np\n",
    "\n",
    "quant = np.array([5, 3, 2])\n",
    "prices = np.array([100, 200, 50])\n",
    "\n",
    "total_sales = np.dot(quant,prices)\n",
    "print(f'The total sale of the day was equal to R${total_sales:.2f}.')\n"
   ]
  }
 ],
 "metadata": {
  "kernelspec": {
   "display_name": "Python 3 (ipykernel)",
   "language": "python",
   "name": "python3"
  },
  "language_info": {
   "codemirror_mode": {
    "name": "ipython",
    "version": 3
   },
   "file_extension": ".py",
   "mimetype": "text/x-python",
   "name": "python",
   "nbconvert_exporter": "python",
   "pygments_lexer": "ipython3",
   "version": "3.11.5"
  }
 },
 "nbformat": 4,
 "nbformat_minor": 4
}
